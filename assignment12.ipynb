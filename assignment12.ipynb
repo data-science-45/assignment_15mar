{
 "cells": [
  {
   "cell_type": "markdown",
   "metadata": {},
   "source": [
    "Q1"
   ]
  },
  {
   "cell_type": "markdown",
   "metadata": {},
   "source": [
    "Artificial Intelligence is the study and process of creating machines or systems that can perform tasks that normally require human intelligence, such as decision making, speech recognition, or image analysis. An example of artificial intelligence is a chatbot that can understand and respond to natural language queries from users."
   ]
  },
  {
   "cell_type": "markdown",
   "metadata": {},
   "source": [
    "Machine Learning is a subset of artificial intelligence that uses statistical methods and algorithms to learn from data and improve its performance without being explicitly programmed. An example of machine learning is a spam filter that can classify emails as spam or not based on previous examples and feedback."
   ]
  },
  {
   "cell_type": "markdown",
   "metadata": {},
   "source": [
    "Deep Learning is a subset of machine learning that uses multiple layers of artificial neural networks to learn from large amounts of data and perform complex tasks. An example of deep learning is a face recognition system that can identify and verify faces from images or videos based on deep neural networks."
   ]
  },
  {
   "cell_type": "markdown",
   "metadata": {},
   "source": [
    "Q2"
   ]
  },
  {
   "cell_type": "markdown",
   "metadata": {},
   "source": [
    "Supervised learning is a type of machine learning that learns from labeled data. Labeled data is data that has been tagged with a correct answer or classification. For example, if you have a dataset of images of fruits, each image would have a label such as “apple”, “banana”, or “orange”. Supervised learning algorithms use the labeled data to learn the relationship between the input features (such as shape, color, and texture) and the output labels (such as fruit names). Then, they can make predictions on new, unlabeled data based on what they have learned.\n",
    "\n",
    "Some examples of supervised learning are:\n",
    "\n",
    "Classification: This is the task of assigning a label to an input based on some predefined categories. For example, a spam filter is a classification algorithm that can label an email as spam or not spam based on its content and sender.\n",
    "Regression: This is the task of predicting a continuous value for an input based on some numerical features. For example, a house price predictor is a regression algorithm that can estimate the price of a house based on its size, location, and amenities.\n",
    "Object detection: This is the task of locating and identifying objects in an image or video based on some predefined classes. For example, a face recognition system is an object detection algorithm that can find and label faces in an image or video based on their identity."
   ]
  },
  {
   "cell_type": "markdown",
   "metadata": {},
   "source": [
    "Q3"
   ]
  },
  {
   "cell_type": "markdown",
   "metadata": {},
   "source": [
    "Unsupervised learning is a type of machine learning that does not use any labeled data. It tries to find hidden patterns, similarities, and differences in the data by itself. Some examples of unsupervised learning are:\n",
    "\n",
    "Clustering: This is the task of grouping similar data points together based on some features or distance measures. For example, k-means clustering is a popular algorithm that partitions the data into k clusters based on the nearest mean value.\n",
    "Association rule mining: This is the task of finding frequent patterns, associations, or correlations among a set of items or attributes in a database. For example, the Apriori algorithm is a common method that generates rules based on the support and confidence of itemsets."
   ]
  },
  {
   "cell_type": "markdown",
   "metadata": {},
   "source": [
    "Q4"
   ]
  },
  {
   "cell_type": "markdown",
   "metadata": {},
   "source": [
    "The difference between AI, ML, DL, and DS is as follows:\n",
    "\n",
    "AI stands for Artificial Intelligence, which is the broadest concept of creating machines or systems that can perform tasks that normally require human intelligence, such as decision making, speech recognition, or image analysis.\n",
    "ML stands for Machine Learning, which is a subset of AI that uses statistical methods and algorithms to learn from data and improve its performance without being explicitly programmed.\n",
    "DL stands for Deep Learning, which is a subset of ML that uses multiple layers of artificial neural networks to learn from large amounts of data and perform complex tasks.\n",
    "DS stands for Data Science, which is a broad field of study about data systems and processes aimed at maintaining data sets and deriving meaning from them. Data scientists use tools, applications, principles, and algorithms to make sense of random data clusters."
   ]
  },
  {
   "cell_type": "markdown",
   "metadata": {},
   "source": [
    "Q5"
   ]
  },
  {
   "cell_type": "markdown",
   "metadata": {},
   "source": [
    "The main differences between supervised, unsupervised, and semi-supervised learning are:\n",
    "\n",
    "Supervised learning uses labeled data, which means the data has a correct answer or classification. The algorithms learn to predict the output from the input data based on the labels. For example, a spam filter is a supervised learning algorithm that can label an email as spam or not spam based on its content and sender.\n",
    "Unsupervised learning uses unlabeled data, which means the data does not have any predefined categories or answers. The algorithms learn to find hidden patterns, similarities, and differences in the data by themselves. For example, k-means clustering is an unsupervised learning algorithm that can group similar data points together based on some features or distance measures.\n",
    "Semi-supervised learning uses a mixture of labeled and unlabeled data. The algorithms use the small amount of labeled data to guide the learning process on the larger set of unlabeled data. For example, a face recognition system can use a few labeled faces to learn the features of different people and then apply them to unlabeled faces"
   ]
  },
  {
   "cell_type": "markdown",
   "metadata": {},
   "source": [
    "Q6"
   ]
  },
  {
   "cell_type": "markdown",
   "metadata": {},
   "source": [
    "Train, test and validation split is a method of dividing a dataset into three subsets: the training set, the validation set, and the test set. Each subset serves a different purpose in the process of building and evaluating a machine learning model.\n",
    "The training set is the subset of data that is used to train the model and make it learn the patterns and features in the data. The training set should be large and diverse enough to cover all possible scenarios and inputs that the model may encounter.\n",
    "The validation set is the subset of data that is used to validate the model’s performance during the training process. The validation set helps to tune the model’s hyperparameters and configurations, and to prevent overfitting or underfitting. Overfitting is when the model becomes too good at fitting the training data, but fails to generalize to new data. Underfitting is when the model is too simple and cannot capture the complexity of the data.\n",
    "The test set is the subset of data that is used to evaluate the model’s final performance after the training and validation process. The test set should be independent and unseen by the model, and should reflect the real-world data that the model will encounter. The test set provides an unbiased estimate of the model’s accuracy and reliability"
   ]
  },
  {
   "cell_type": "markdown",
   "metadata": {},
   "source": [
    "Q7"
   ]
  },
  {
   "cell_type": "markdown",
   "metadata": {},
   "source": [
    "Unsupervised learning can be used in anomaly detection to identify rare or unusual patterns in data that deviate from the normal behavior. Anomalies can indicate fraud, errors, defects, or other problems that need attention. Unsupervised learning algorithms do not require any labeled data or prior knowledge of what constitutes an anomaly. They can learn the underlying structure and distribution of the data and detect outliers based on some criteria, such as distance, density, or reconstruction error.\n",
    "\n",
    "Some examples of unsupervised learning algorithms for anomaly detection are:\n",
    "\n",
    "Isolation forest: This algorithm randomly partitions the data into smaller subsets using tree structures. Anomalies are more likely to be isolated in fewer splits than normal data points, and thus have shorter path lengths from the root of the tree.\n",
    "Local outlier factor: This algorithm measures the local density of each data point and compares it with the density of its neighbors. Anomalies are more likely to have lower density than their neighbors, and thus have higher local outlier factors.\n",
    "Robust covariance: This algorithm estimates the parameters of a multivariate Gaussian distribution that fits the data, and then computes the Mahalanobis distance of each data point from the mean. Anomalies are more likely to have larger distances than normal data points, and thus have higher deviations from the distribution"
   ]
  },
  {
   "cell_type": "markdown",
   "metadata": {},
   "source": [
    "Q8"
   ]
  },
  {
   "cell_type": "markdown",
   "metadata": {},
   "source": [
    "Supervised learning algorithms are those that learn from labeled data, which means the data has a correct answer or classification. They can be used for tasks such as classification and regression. Some examples of supervised learning algorithms are:\n",
    "\n",
    "Linear regression: This algorithm tries to find a linear relationship between the input variables and the output variable by minimizing the error between the predicted and actual values.\n",
    "Logistic regression: This algorithm tries to find a logistic function that can separate the input data into two or more classes by estimating the probability of each class.\n",
    "Support vector machine: This algorithm tries to find a hyperplane that can separate the input data into two or more classes by maximizing the margin between the classes.\n",
    "K-nearest neighbor: This algorithm classifies an input data point based on the majority vote of its k closest neighbors in the training data.\n",
    "Naive Bayes: This algorithm classifies an input data point based on the Bayes’ theorem and the assumption of conditional independence among the input variables.\n",
    "Decision tree: This algorithm builds a tree-like structure that splits the input data into subsets based on some criteria, and assigns a class or value to each leaf node.\n",
    "Random forest: This algorithm combines multiple decision trees and uses the average or majority vote of their predictions as the final output.\n",
    "Unsupervised learning algorithms are those that learn from unlabeled data, which means the data does not have any predefined categories or answers. They can be used for tasks such as clustering and association rule mining. Some examples of unsupervised learning algorithms are:\n",
    "\n",
    "K-means clustering: This algorithm partitions the input data into k clusters based on the nearest mean value.\n",
    "Hierarchical clustering: This algorithm builds a hierarchy of clusters based on the distance or similarity between the data points.\n",
    "DBSCAN: This algorithm groups the input data into clusters based on the density of the data points, and identifies outliers as those that do not belong to any cluster.\n",
    "Association rule mining: This algorithm finds frequent patterns, associations, or correlations among a set of items or attributes in a database.\n",
    "Principal component analysis: This algorithm reduces the dimensionality of the input data by finding the linear combinations of the input variables that capture the most variance"
   ]
  }
 ],
 "metadata": {
  "language_info": {
   "name": "python"
  }
 },
 "nbformat": 4,
 "nbformat_minor": 2
}
